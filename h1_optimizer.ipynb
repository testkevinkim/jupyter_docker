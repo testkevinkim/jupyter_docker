{
 "cells": [
  {
   "cell_type": "code",
   "execution_count": null,
   "metadata": {},
   "outputs": [],
   "source": [
    "from pyspark.sql import functions as F\n",
    "from pyspark.sql.window import Window"
   ]
  },
  {
   "cell_type": "code",
   "execution_count": null,
   "metadata": {},
   "outputs": [],
   "source": [
    "from pyspark.sql import SparkSession\n",
    "from pyspark.conf import SparkConf\n",
    "spark = SparkSession.builder.appName(\"h1agg\").config(\"spark.driver.host\", \"localhost\").getOrCreate()\n",
    "conf = spark.sparkContext._conf.setAll([('spark.driver.memory', '12g')])"
   ]
  },
  {
   "cell_type": "code",
   "execution_count": null,
   "metadata": {},
   "outputs": [],
   "source": [
    "h1=spark.read.parquet(\"/home/jovyan/dataset/h1_parquet.gz.parquet\").repartition(1000)"
   ]
  },
  {
   "cell_type": "code",
   "execution_count": null,
   "metadata": {},
   "outputs": [],
   "source": [
    "h1.groupBy(F.col(\"INDEX\")).agg(F.mean(\"GM\")).count()"
   ]
  },
  {
   "cell_type": "code",
   "execution_count": null,
   "metadata": {},
   "outputs": [],
   "source": [
    "spark.sparkContext.getConf().getAll()"
   ]
  },
  {
   "cell_type": "code",
   "execution_count": null,
   "metadata": {},
   "outputs": [],
   "source": [
    "# TODO:\n",
    "# 1. add column with lag\n",
    "# 2. mean row wise \n",
    "# ref: https://stackoverflow.com/questions/32670958/spark-dataframe-computing-row-wise-mean-or-any-aggregate-operation\n",
    "        \n",
    "# 3. rank by index -> top N\n",
    "# 4. mean(abs(diff)) , mean(diff) groupBy index\n",
    "# 5. 50-150 : best lookback vs. 151-220 best lookback at each weight\n",
    "    \n",
    "    "
   ]
  },
  {
   "cell_type": "code",
   "execution_count": null,
   "metadata": {},
   "outputs": [],
   "source": []
  },
  {
   "cell_type": "code",
   "execution_count": null,
   "metadata": {},
   "outputs": [],
   "source": []
  },
  {
   "cell_type": "code",
   "execution_count": null,
   "metadata": {},
   "outputs": [],
   "source": []
  },
  {
   "cell_type": "code",
   "execution_count": null,
   "metadata": {},
   "outputs": [],
   "source": [
    "def select_top_ranker(sdf, groupByCol, orderByCol):\n",
    "    rankWindow = Window.partitionBy(groupByCol).orderBy(F.col(orderByCol).desc())\n",
    "    sdf = sdf.withColumn(\"RANK\", F.rank().over(rankWindow))\n",
    "    return sdf"
   ]
  },
  {
   "cell_type": "code",
   "execution_count": null,
   "metadata": {},
   "outputs": [],
   "source": [
    "def row_mean(sdf, mean_col_str, lookback_max):\n",
    "    mean_target_cols = list(map(lambda  x: mean_col_str+str(x), range(1,lookback_max+1)))\n",
    "    # range excludes end, that's why +1\n",
    "    print(mean_target_cols)\n",
    "    mean_col=mean_col_str+\"_mean_\"+str(lookback_max)\n",
    "    sdf=sdf.withColumn(mean_col, (sum(F.col(x) for x in mean_target_cols)/F.lit(lookback_max)))\n",
    "    return sdf"
   ]
  },
  {
   "cell_type": "code",
   "execution_count": null,
   "metadata": {},
   "outputs": [],
   "source": [
    "def lag_col(sdf, groupBy_col_str,lag_col_str, lag_step):\n",
    "    sdf=(sdf\n",
    "         .withColumn(lag_col_str+str(lag_step),\n",
    "                     F.lag(sdf[lag_col_str],lag_step).over(Window\n",
    "                                                  .partitionBy(groupBy_col_str)\n",
    "                                                  .orderBy([\"KEY\",\"INDEX\"]))))\n",
    "    return sdf\n"
   ]
  },
  {
   "cell_type": "code",
   "execution_count": null,
   "metadata": {},
   "outputs": [],
   "source": [
    "mean_weight=0.7"
   ]
  },
  {
   "cell_type": "code",
   "execution_count": null,
   "metadata": {},
   "outputs": [],
   "source": [
    "h1=h1.withColumn(\"KEY\",F.concat(F.col(\"rank_bin\"),F.lit(\"_\"),F.col(\"FEATURE_BIN\")))\n",
    "h1=h1.withColumn(\"WG\", F.col(\"GM\")*mean_weight+F.col(\"GMD\")*(1-mean_weight))"
   ]
  },
  {
   "cell_type": "code",
   "execution_count": null,
   "metadata": {},
   "outputs": [],
   "source": [
    "lookbackdays_list = range(1,50+1)\n"
   ]
  },
  {
   "cell_type": "code",
   "execution_count": null,
   "metadata": {},
   "outputs": [],
   "source": [
    "for lbd in lookbackdays_list:\n",
    "    h1 = lag_col(h1,\"KEY\",\"WG\",lbd)"
   ]
  },
  {
   "cell_type": "code",
   "execution_count": null,
   "metadata": {},
   "outputs": [],
   "source": [
    "h1=row_mean(h1,\"WG\",20)"
   ]
  },
  {
   "cell_type": "code",
   "execution_count": null,
   "metadata": {},
   "outputs": [],
   "source": [
    "h1=h1.where(\"WG_mean_20 is not null\")\n",
    "h1=select_top_ranker(h1, \"INDEX\",\"WG_mean_20\")"
   ]
  },
  {
   "cell_type": "code",
   "execution_count": null,
   "metadata": {},
   "outputs": [],
   "source": [
    "h1_top5 = h1.where(\"rank <= 5\")\n",
    "h1_agg = h1_top5.groupBy(\"INDEX\").agg(F.mean(\"WG\").alias(\"WG_MEAN\")).orderBy(\"INDEX\")"
   ]
  },
  {
   "cell_type": "code",
   "execution_count": null,
   "metadata": {},
   "outputs": [],
   "source": [
    "h1_agg.limit(10).head()"
   ]
  },
  {
   "cell_type": "code",
   "execution_count": null,
   "metadata": {},
   "outputs": [],
   "source": [
    "spark.sparkContext.uiWebUrl"
   ]
  },
  {
   "cell_type": "code",
   "execution_count": null,
   "metadata": {},
   "outputs": [],
   "source": [
    "l=spark.sparkContext"
   ]
  },
  {
   "cell_type": "code",
   "execution_count": null,
   "metadata": {},
   "outputs": [],
   "source": [
    "l.getConf().getAll()"
   ]
  },
  {
   "cell_type": "code",
   "execution_count": null,
   "metadata": {},
   "outputs": [],
   "source": [
    "h1.limit(10).toPandas()"
   ]
  },
  {
   "cell_type": "code",
   "execution_count": null,
   "metadata": {},
   "outputs": [],
   "source": []
  }
 ],
 "metadata": {
  "kernelspec": {
   "display_name": "Python 3",
   "language": "python",
   "name": "python3"
  },
  "language_info": {
   "codemirror_mode": {
    "name": "ipython",
    "version": 3
   },
   "file_extension": ".py",
   "mimetype": "text/x-python",
   "name": "python",
   "nbconvert_exporter": "python",
   "pygments_lexer": "ipython3",
   "version": "3.6.8"
  }
 },
 "nbformat": 4,
 "nbformat_minor": 2
}
